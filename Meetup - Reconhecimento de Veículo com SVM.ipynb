{
 "cells": [
  {
   "cell_type": "markdown",
   "metadata": {},
   "source": [
    "### Importação das Bibliotecas"
   ]
  },
  {
   "cell_type": "code",
   "execution_count": 18,
   "metadata": {},
   "outputs": [],
   "source": [
    "import numpy as np\n",
    "import cv2\n",
    "import glob\n",
    "import time\n",
    "import matplotlib.image as mpimg\n",
    "import matplotlib.pyplot as plt\n",
    "from skimage.feature import hog\n",
    "from sklearn.svm import SVC\n",
    "from sklearn.preprocessing import StandardScaler\n",
    "from sklearn.model_selection import train_test_split\n",
    "from sklearn.externals import joblib\n",
    "from sklearn.model_selection import GridSearchCV\n",
    "from sklearn.metrics import make_scorer, f1_score\n",
    "from scipy.ndimage.measurements import label\n",
    "from moviepy.editor import VideoFileClip\n",
    "import warnings\n",
    "warnings.filterwarnings('ignore')\n",
    "\n",
    "%matplotlib inline"
   ]
  },
  {
   "cell_type": "markdown",
   "metadata": {},
   "source": [
    "## Obtenção e analise dos dados para treinamento"
   ]
  },
  {
   "cell_type": "code",
   "execution_count": 10,
   "metadata": {
    "collapsed": true
   },
   "outputs": [],
   "source": [
    "# Retorna dois vetores com o caminho e nome dos arquivos das imagens que serão processadas.\n",
    "def pathimage(vehicle, non_vehicle, extension='png'):\n",
    "    vehicle_image_filenames = glob.glob(vehicle + '**/*.' + extension) #, recursive=True)\n",
    "    non_vehicle_image_filenames = glob.glob(non_vehicle + '**/*.' + extension)  #, recursive=True)\n",
    "    return vehicle_image_filenames, non_vehicle_image_filenames"
   ]
  },
  {
   "cell_type": "code",
   "execution_count": 11,
   "metadata": {
    "collapsed": true
   },
   "outputs": [],
   "source": [
    "# Retorna propriedades HOG e visualizacao\n",
    "def gethogfeatures(img, orient, pix_per_cell, cell_per_block, vis=False, feature_vec=True, L = 'L2-Hys'):\n",
    "    if vis == True:\n",
    "        features, hog_image = hog(img, orientations=orient, pixels_per_cell=(pix_per_cell, pix_per_cell), \n",
    "                                  cells_per_block=(cell_per_block, cell_per_block), # block_norm=L,\n",
    "                                  transform_sqrt=True, visualise=vis, feature_vector=feature_vec)\n",
    "        return features, hog_image\n",
    "    # Otherwise call with one output\n",
    "    else:\n",
    "        features = hog(img, orientations=orient, pixels_per_cell=(pix_per_cell, pix_per_cell),\n",
    "                       cells_per_block=(cell_per_block, cell_per_block), # block_norm=L,\n",
    "                       transform_sqrt=True, visualise=vis, feature_vector=feature_vec)\n",
    "        return features"
   ]
  },
  {
   "cell_type": "markdown",
   "metadata": {},
   "source": [
    "## Metodo de extração de propriedades"
   ]
  },
  {
   "cell_type": "code",
   "execution_count": 12,
   "metadata": {
    "collapsed": true
   },
   "outputs": [],
   "source": [
    "# Define a function to extract features from a list of images\n",
    "# Have this function call bin_spatial() and color_hist()\n",
    "def extract_features(imgs, cspace='RGB', orient=9, pix_per_cell=8, cell_per_block=2, hog_channel=2):\n",
    "    # Create a list to append feature vectors to\n",
    "    features = []\n",
    "    # Iterate through the list of images\n",
    "    for file in imgs:\n",
    "        # Read in each one by one\n",
    "        image = mpimg.imread(file)\n",
    "        # apply color conversion if other than 'RGB'\n",
    "        if cspace != 'RGB':\n",
    "            if cspace == 'HSV':\n",
    "                feature_image = cv2.cvtColor(image, cv2.COLOR_RGB2HSV)\n",
    "            elif cspace == 'LUV':\n",
    "                feature_image = cv2.cvtColor(image, cv2.COLOR_RGB2LUV)\n",
    "            elif cspace == 'HLS':\n",
    "                feature_image = cv2.cvtColor(image, cv2.COLOR_RGB2HLS)\n",
    "            elif cspace == 'YUV':\n",
    "                feature_image = cv2.cvtColor(image, cv2.COLOR_RGB2YUV)\n",
    "            elif cspace == 'YCrCb':\n",
    "                feature_image = cv2.cvtColor(image, cv2.COLOR_RGB2YCrCb)\n",
    "        else:\n",
    "            feature_image = np.copy(image)\n",
    "\n",
    "        # Call get_hog_features() with vis=False, feature_vec=True\n",
    "        if hog_channel == 'ALL':\n",
    "            hog_features = []\n",
    "            for channel in range(feature_image.shape[2]):\n",
    "                hog_features.append(gethogfeatures(img=feature_image[:, :, channel], orient=orient,\n",
    "                                                      pix_per_cell=pix_per_cell, cell_per_block=cell_per_block,\n",
    "                                                      vis=False, feature_vec=True))\n",
    "            hog_features = np.ravel(hog_features)\n",
    "        else:\n",
    "            hog_features = gethogfeatures(img=feature_image[:, :, hog_channel], orient=orient,\n",
    "                                             pix_per_cell=pix_per_cell, cell_per_block=cell_per_block, vis=False,\n",
    "                                             feature_vec=True)\n",
    "        # Append the new feature vector to the features list\n",
    "        features.append(hog_features)\n",
    "    # Return list of feature vectors\n",
    "    return features"
   ]
  },
  {
   "cell_type": "markdown",
   "metadata": {},
   "source": [
    "## Treinamento do Modelo"
   ]
  },
  {
   "cell_type": "code",
   "execution_count": 13,
   "metadata": {
    "collapsed": true
   },
   "outputs": [],
   "source": [
    "def train_model(vehicle_hog_features, non_vehicle_hog_features):\n",
    "    parameters = [\n",
    "        {\n",
    "            # 'C': [0.01],\n",
    "            'C': [1e-2, 1, 1e2],\n",
    "            # Cost - Penalização de elementos dentro da margem de suporte\n",
    "            'kernel': ['linear']\n",
    "            # Kernel - Define a função de custo que será minimizada\n",
    "        }\n",
    "    ]\n",
    "\n",
    "    f1_scorer = make_scorer(f1_score)\n",
    "\n",
    "    grid_obj = GridSearchCV(SVC(), param_grid=parameters, scoring=f1_scorer)\n",
    "\n",
    "\n",
    "    # Create an array stack of feature vectors\n",
    "    X = np.vstack((vehicle_hog_features, non_vehicle_hog_features)).astype(np.float64)\n",
    "\n",
    "    # Fit a per-column scaler\n",
    "    X_scaler = StandardScaler().fit(X)\n",
    "\n",
    "    # Apply the scaler to X\n",
    "    scaled_X = X_scaler.transform(X)\n",
    "\n",
    "    # Defini o vetor Y com a label\n",
    "    y = np.hstack((np.ones(len(vehicle_hog_features)), np.zeros(len(non_vehicle_hog_features))))\n",
    "\n",
    "    # Split up data into randomized training and test sets\n",
    "    rand_state = np.random.randint(0, 100)\n",
    "\n",
    "    X_train, X_test, y_train, y_test = train_test_split(scaled_X, y, test_size=0.2, random_state=rand_state, stratify=y)\n",
    "\n",
    "    print('Using:', orient, 'orientations', pix_per_cell, 'pixels per cell and', cell_per_block, 'cells per block')\n",
    "    print('Training data set size: ', len(X_train))\n",
    "    print('Testing data set size: ', len(X_test))\n",
    "\n",
    "    # Check the training time for the SVC\n",
    "    t = time.time()\n",
    "    grid_obj.fit(X_train, y_train)\n",
    "    t2 = time.time()\n",
    "    print(round(t2 - t, 2), 'Seconds to train SVC...')\n",
    "\n",
    "    print(grid_obj.best_params_)\n",
    "\n",
    "    clf = grid_obj.best_estimator_\n",
    "\n",
    "    # Check the score of the SVC\n",
    "\n",
    "    # Check the prediction time for a single sample\n",
    "    t = time.time()\n",
    "\n",
    "    y_preds = clf.predict(X_test)\n",
    "    f1 = f1_score(y_test, y_preds)\n",
    "\n",
    "    t2 = time.time()\n",
    "\n",
    "    print(round(t2 - t, 5), 'Seconds to Predict')\n",
    "    print(f1)\n",
    "\n",
    "    return clf, X_scaler"
   ]
  },
  {
   "cell_type": "markdown",
   "metadata": {},
   "source": [
    "## Verificando a carga dos dados de treinamento"
   ]
  },
  {
   "cell_type": "code",
   "execution_count": 14,
   "metadata": {},
   "outputs": [
    {
     "name": "stdout",
     "output_type": "stream",
     "text": [
      "('Arquivos contendo veiculos: ', 9418)\n",
      "('Arquivos sem veiculos: ', 12374)\n"
     ]
    }
   ],
   "source": [
    "vehicle_image_filenames, non_vehicle_image_filenames = pathimage('training_images/vehicles/', 'training_images/non-vehicles/')\n",
    "print('Arquivos contendo veiculos: ', len(vehicle_image_filenames))\n",
    "print('Arquivos sem veiculos: ', len(non_vehicle_image_filenames))"
   ]
  },
  {
   "cell_type": "code",
   "execution_count": 19,
   "metadata": {},
   "outputs": [
    {
     "data": {
      "text/plain": [
       "<matplotlib.image.AxesImage at 0x10b22e790>"
      ]
     },
     "execution_count": 19,
     "metadata": {},
     "output_type": "execute_result"
    },
    {
     "data": {
      "image/png": "[encoded data removed]",
      "text/plain": [
       "<matplotlib.figure.Figure at 0x115bd5dd0>"
      ]
     },
     "metadata": {},
     "output_type": "display_data"
    }
   ],
   "source": [
    "vehicle_img = cv2.imread(vehicle_image_filenames[10])\n",
    "non_vehicle_img = cv2.imread(non_vehicle_image_filenames[10])\n",
    "    \n",
    "figure, (vehicle_plot, non_vehicle_plot) = plt.subplots(1, 2, figsize=(8,4))\n",
    "        \n",
    "vehicle_plot.set_title('Vehicle image')\n",
    "vehicle_plot.imshow(cv2.cvtColor(vehicle_img, cv2.COLOR_BGR2RGB))\n",
    "\n",
    "non_vehicle_plot.set_title('Non-vehicle image')\n",
    "non_vehicle_plot.imshow(cv2.cvtColor(non_vehicle_img, cv2.COLOR_BGR2RGB))"
   ]
  },
  {
   "cell_type": "markdown",
   "metadata": {},
   "source": [
    "## Extraindo as caracteristicas HOG das imagens de testes"
   ]
  },
  {
   "cell_type": "code",
   "execution_count": 28,
   "metadata": {},
   "outputs": [],
   "source": [
    "pix_per_cell = 8\n",
    "cell_per_block = 2\n",
    "orient = 10\n",
    "color_space = 'YCrCb'\n",
    "hog_channel = 'ALL'"
   ]
  },
  {
   "cell_type": "code",
   "execution_count": 29,
   "metadata": {},
   "outputs": [
    {
     "name": "stdout",
     "output_type": "stream",
     "text": [
      "CPU times: user 40.6 ms, sys: 4.32 ms, total: 45 ms\n",
      "Wall time: 64.5 ms\n",
      "CPU times: user 38.4 ms, sys: 381 µs, total: 38.7 ms\n",
      "Wall time: 38.8 ms\n"
     ]
    },
    {
     "data": {
      "text/plain": [
       "<matplotlib.image.AxesImage at 0x11b0cdfd0>"
      ]
     },
     "execution_count": 29,
     "metadata": {},
     "output_type": "execute_result"
    },
    {
     "data": {
      "image/png": "[encoded data removed]",
      "text/plain": [
       "<matplotlib.figure.Figure at 0x107aa0510>"
      ]
     },
     "metadata": {},
     "output_type": "display_data"
    }
   ],
   "source": [
    "# Define a function to return HOG features and visualization\n",
    "def get_hog_features(img,\n",
    "                     orient, \n",
    "                     pix_per_cell, \n",
    "                     cell_per_block, \n",
    "                     vis=False, \n",
    "                     feature_vec=True):\n",
    "    if vis == True:\n",
    "        features, hog_image = hog(img, orientations=orient, pixels_per_cell=(pix_per_cell, pix_per_cell),\n",
    "                                  cells_per_block=(cell_per_block, cell_per_block), transform_sqrt=True, \n",
    "                                  visualise=vis, feature_vector=feature_vec)\n",
    "        return features, hog_image\n",
    "    # Otherwise call with one output\n",
    "    else:      \n",
    "        features = hog(img, orientations=orient, pixels_per_cell=(pix_per_cell, pix_per_cell),\n",
    "                       cells_per_block=(cell_per_block, cell_per_block), transform_sqrt=True, \n",
    "                       visualise=vis, feature_vector=feature_vec)\n",
    "        return features\n",
    "\n",
    "ycrcb_vehicle_img = cv2.cvtColor(vehicle_img, cv2.COLOR_RGB2YCrCb)\n",
    "ycrcb_non_vehicle_img = cv2.cvtColor(non_vehicle_img, cv2.COLOR_RGB2YCrCb)\n",
    "\n",
    "%time vehicle_features, vehicle_hog_image = get_hog_features(ycrcb_vehicle_img[:,:,0], orient, pix_per_cell, cell_per_block, True)\n",
    "%time non_vehicle_features, non_vehicle_hog_image = get_hog_features(ycrcb_non_vehicle_img[:,:,0], orient, pix_per_cell, cell_per_block, True)\n",
    "\n",
    "figure, (vehicle_hog_plot, non_vehicle_hog_plot) = plt.subplots(1, 2, figsize=(8,4))\n",
    "        \n",
    "vehicle_hog_plot.set_title('Vehicle HOG feature')\n",
    "vehicle_hog_plot.imshow(vehicle_hog_image)\n",
    "\n",
    "non_vehicle_hog_plot.set_title('Non-vehicle HOG feature')\n",
    "non_vehicle_hog_plot.imshow(non_vehicle_hog_image)"
   ]
  },
  {
   "cell_type": "code",
   "execution_count": 30,
   "metadata": {},
   "outputs": [
    {
     "name": "stdout",
     "output_type": "stream",
     "text": [
      "(390.26, ' para fazer os HOGs...')\n"
     ]
    }
   ],
   "source": [
    "t1 = time.time()\n",
    "vehicle_hog_features = extract_features(vehicle_image_filenames, color_space, orient, pix_per_cell, cell_per_block, hog_channel)\n",
    "\n",
    "non_vehicle_hog_features = extract_features(non_vehicle_image_filenames, color_space, orient, pix_per_cell, cell_per_block, hog_channel)\n",
    "t2 = time.time()\n",
    "print(round(t2-t1, 2), ' para fazer os HOGs...')"
   ]
  },
  {
   "cell_type": "markdown",
   "metadata": {},
   "source": [
    "## Execução do Treinamento do Modelo"
   ]
  },
  {
   "cell_type": "code",
   "execution_count": null,
   "metadata": {
    "collapsed": true
   },
   "outputs": [],
   "source": [
    "model, scaler = train_model(vehicle_hog_features, non_vehicle_hog_features)\n",
    "print('Fez o treinamento do modelo...')"
   ]
  },
  {
   "cell_type": "markdown",
   "metadata": {},
   "source": [
    "## Salva o modelo e os parametros utilizados no treinamento."
   ]
  },
  {
   "cell_type": "code",
   "execution_count": null,
   "metadata": {
    "collapsed": true
   },
   "outputs": [],
   "source": [
    "paramhog = {\n",
    "    'pix_per_cell': pix_per_cell,\n",
    "    'cell_per_block': cell_per_block,\n",
    "    'orient': orient,\n",
    "    'color_space': color_space,\n",
    "    'hog_channel': hog_channel\n",
    "}\n",
    "\n",
    "#salva o modelo treinado\n",
    "joblib.dump(model, 'model/vehiclemodel_.pkl')\n",
    "print('Salvou o modelo...')\n",
    "\n",
    "joblib.dump(scaler, 'model/vehiclescaler_.pkl')\n",
    "print('Salvou a escala...')\n",
    "\n",
    "joblib.dump(paramhog, 'model/paramhog_.pkl')\n",
    "print('Salvou os parametros do Hog...')\n",
    "\n",
    "print('Finalizou !!!')"
   ]
  },
  {
   "cell_type": "markdown",
   "metadata": {},
   "source": [
    "## Recupera o model  e escala do treinamento"
   ]
  },
  {
   "cell_type": "code",
   "execution_count": null,
   "metadata": {
    "collapsed": true
   },
   "outputs": [],
   "source": [
    "print('Carregou as bibliotecas...')\n",
    "\n",
    "#Recupera o model  e escala do treinamento\n",
    "model = joblib.load('model/vehiclemodel.pkl')\n",
    "print('Carregou o modelo...')\n",
    "\n",
    "scaler = joblib.load('model/vehiclescaler.pkl')\n",
    "print('Carregou a escala...')\n",
    "\n",
    "paramhog = joblib.load('model/paramhog.pkl')\n",
    "print('Carregou os parametros do Hog...')\n",
    "\n",
    "# Carga de parametros\n",
    "pix_per_cell = paramhog['pix_per_cell']\n",
    "cell_per_block = paramhog['cell_per_block']\n",
    "orient = paramhog['orient']\n",
    "color_space = paramhog['color_space']\n",
    "hog_channel = paramhog['hog_channel']"
   ]
  },
  {
   "cell_type": "code",
   "execution_count": null,
   "metadata": {
    "collapsed": true
   },
   "outputs": [],
   "source": [
    "'''\n",
    "Sliding Windows\n",
    "'''\n",
    "\n",
    "# Window size (x and y dimensions), and overlap fraction (for both x and y)\n",
    "# @numba.jit\n",
    "def slide_window(x_start_stop=[None, None],\n",
    "                 y_start_stop=[None, None],\n",
    "                 xy_window=(64, 64),\n",
    "                 xy_overlap=(0.5, 0.5)):\n",
    "    # Compute the span of the region to be searched\n",
    "    xspan = x_start_stop[1] - x_start_stop[0]\n",
    "    yspan = y_start_stop[1] - y_start_stop[0]\n",
    "\n",
    "    # Compute the number of pixels per step in x/y\n",
    "    nx_pix_per_step = np.int(xy_window[0] * (1 - xy_overlap[0]))\n",
    "    ny_pix_per_step = np.int(xy_window[1] * (1 - xy_overlap[1]))\n",
    "\n",
    "    # Compute the number of windows in x/y\n",
    "    nx_buffer = np.int(xy_window[0] * (xy_overlap[0]))\n",
    "    ny_buffer = np.int(xy_window[1] * (xy_overlap[1]))\n",
    "    nx_windows = np.int((xspan - nx_buffer) / nx_pix_per_step)\n",
    "    ny_windows = np.int((yspan - ny_buffer) / ny_pix_per_step)\n",
    "\n",
    "    # Initialize a list to append window positions to\n",
    "    window_list = []\n",
    "\n",
    "    # Loop through finding x and y window positions\n",
    "    # Note: you could vectorize this step, but in practice\n",
    "    # you'll be considering windows one by one with your\n",
    "    # classifier, so looping makes sense\n",
    "    for ys in range(ny_windows):\n",
    "        for xs in range(nx_windows):\n",
    "            # Calculate window position\n",
    "            startx = xs * nx_pix_per_step + x_start_stop[0]\n",
    "            endx = startx + xy_window[0]\n",
    "            starty = ys * ny_pix_per_step + y_start_stop[0]\n",
    "            endy = starty + xy_window[1]\n",
    "\n",
    "            # Append window position to list\n",
    "            window_list.append(((startx, starty), (endx, endy)))\n",
    "\n",
    "    # Return the list of windows\n",
    "    return window_list\n",
    "\n",
    "\n",
    "def draw_boxes(img, bboxes, color=(0, 255, 0), thick=3):\n",
    "    # Make a copy of the image\n",
    "    draw_img = np.copy(img)\n",
    "\n",
    "    # Iterate through the bounding boxes\n",
    "    for bbox in bboxes:\n",
    "        # Draw a rectangle given bbox coordinates\n",
    "        cv2.rectangle(draw_img, bbox[0], bbox[1], color, thick)\n",
    "\n",
    "    # Return the image copy with boxes drawn\n",
    "    return draw_img\n",
    "\n",
    "\n",
    "def search_windows(img, windows):\n",
    "    global model, scaler, pix_per_cell, cell_per_block, orient, color_space, hog_channel\n",
    "    # 1) Create an empty list to receive positive detection windows\n",
    "    on_windows = []\n",
    "\n",
    "    # 2) Iterate over all windows in the list\n",
    "    for window in windows:\n",
    "        # 3) Extract the test window from original image\n",
    "        test_img = cv2.resize(img[window[0][1]:window[1][1], window[0][0]:window[1][0]], (64, 64))\n",
    "\n",
    "        # 4) Extract features for that window using single_img_features()\n",
    "        features = cd.single_img_features(test_img, color_space, orient, pix_per_cell, cell_per_block, hog_channel)\n",
    "\n",
    "        # 5) Scale extracted features to be fed to classifier\n",
    "        # scaler = StandardScaler().fit(np.array(features).reshape(-1, 1))\n",
    "        test_features = scaler.transform(np.array(features).reshape(1, -1))\n",
    "\n",
    "        # 6) Predict using your classifier\n",
    "        prediction = model.predict(test_features)\n",
    "\n",
    "        # 7) If positive (prediction == 1) then save the window\n",
    "        if prediction == 1:\n",
    "            on_windows.append(window)\n",
    "\n",
    "    # 8) Return windows for positive detections\n",
    "    return on_windows\n",
    "\n",
    "# @numba.jit(nopython=True)\n",
    "def add_heat(heatmap, bbox_list):\n",
    "    # Iterate through list of bboxes\n",
    "    for box in bbox_list:\n",
    "        # Add += 1 for all pixels inside each bbox\n",
    "        # Assuming each \"box\" takes the form ((x1, y1), (x2, y2))\n",
    "        heatmap[box[0][1]:box[1][1], box[0][0]:box[1][0]] += 1\n",
    "\n",
    "    # Return updated heatmap\n",
    "    return heatmap\n",
    "\n",
    "# @numba.jit\n",
    "def apply_threshold(heatmap, threshold):\n",
    "    # Zero out pixels below the threshold\n",
    "    heatmap[heatmap <= threshold] = 0\n",
    "\n",
    "    # Return thresholded map\n",
    "    return heatmap\n",
    "\n",
    "# @numba.jit\n",
    "def draw_labeled_bboxes(img, labels, color=(0, 153, 153), thick=3):\n",
    "    # Iterate through all detected cars\n",
    "    for car_number in range(1, labels[1] + 1):\n",
    "        # Find pixels with each car_number label value\n",
    "        nonzero = (labels[0] == car_number).nonzero()\n",
    "\n",
    "        # Identify x and y values of those pixels\n",
    "        nonzeroy = np.array(nonzero[0])\n",
    "        nonzerox = np.array(nonzero[1])\n",
    "\n",
    "        # filtro de falsos positivos com retangulos cuja largura seja menor que a altura\n",
    "        if (np.max(nonzeroy) - np.max(nonzerox)) <= (np.min(nonzeroy) - np.min(nonzerox)):\n",
    "            # Define a bounding box based on min/max x and y\n",
    "            bbox = ((np.min(nonzerox), np.min(nonzeroy)), (np.max(nonzerox), np.max(nonzeroy)))\n",
    "\n",
    "            # Draw the box on the image\n",
    "            cv2.rectangle(img, bbox[0], bbox[1], color, thick)\n",
    "\n",
    "    # Return the image\n",
    "    return img\n",
    "\n",
    "\n",
    "def subimage(image, heat, proporcao = 4, texto = 'Texto aqui...', cor = (153, 0, 0), denso = 2):\n",
    "    height, width, channels = image.shape\n",
    "\n",
    "    heat2 = cv2.resize(heat, (width//proporcao, height//proporcao))\n",
    "\n",
    "    res_img = cv2.resize(image, (width//proporcao, height//proporcao))\n",
    "    res_img_gray = cv2.cvtColor(res_img, cv2.COLOR_RGB2GRAY)\n",
    "\n",
    "    heat3 = (heat2 / np.max(heat2) * 255).astype(int)\n",
    "\n",
    "    res_img_gray_R = res_img_gray\n",
    "    res_img_gray_R[(heat2 > 0)] = 255\n",
    "\n",
    "    res_img_gray_G = res_img_gray\n",
    "    res_img_gray_G[(heat2 > 0)] = 0\n",
    "    res_img_gray_B = res_img_gray\n",
    "    res_img_gray_B[(heat2 > 0)] = 0\n",
    "\n",
    "    image[0:height//proporcao, 0:width//proporcao, 0] = res_img_gray_R + heat3\n",
    "    image[0:height//proporcao, 0:width//proporcao, 1] = res_img_gray\n",
    "    image[0:height//proporcao, 0:width//proporcao, 2] = res_img_gray\n",
    "\n",
    "    cv2.putText(image, texto, (50, 25), cv2.FONT_HERSHEY_SIMPLEX, .8, cor, denso,\n",
    "                lineType=cv2.LINE_AA)\n",
    "\n",
    "    return image\n"
   ]
  },
  {
   "cell_type": "code",
   "execution_count": null,
   "metadata": {
    "collapsed": true
   },
   "outputs": [],
   "source": [
    "'''\n",
    "Log Control of Heatmap\n",
    "'''\n",
    "\n",
    "prev_rects = []\n",
    "\n",
    "def add_rects(rects):\n",
    "    global prev_rects\n",
    "    prev_rects.append(rects)\n",
    "    if len(prev_rects) > 15:\n",
    "        # throw out oldest rectangle set(s)\n",
    "        prev_rects = prev_rects[len(prev_rects) - 15]"
   ]
  },
  {
   "cell_type": "code",
   "execution_count": null,
   "metadata": {
    "collapsed": true
   },
   "outputs": [],
   "source": [
    "'''\n",
    "Vehicle Detection pipeline for single image\n",
    "'''\n",
    "def detect_car(image_to_process):\n",
    "    global prev_rects\n",
    "    draw_image = np.copy(image_to_process)\n",
    "\n",
    "    height, width, channels = draw_image.shape\n",
    "\n",
    "    image_to_process = image_to_process.astype(np.float32)/255\n",
    "\n",
    "    heat = np.zeros_like(image_to_process[:, :, 0]).astype(np.float)\n",
    "\n",
    "    pixels = [96, 80, 64]\n",
    "\n",
    "    # FB\n",
    "    # pixels = [256, 128, 96, 80, 64]\n",
    "\n",
    "    # Defini a altura e largura da linha vertical de busca\n",
    "    xheight_searchwindows = 380\n",
    "    xwidth_searchwindows = 1266\n",
    "\n",
    "    # FB\n",
    "    # xheight_searchwindows = 0\n",
    "    # xwidth_searchwindows = width\n",
    "\n",
    "    # Defini a altura e largura da linha horizontal de busca\n",
    "    yheight_searchwindows = 267\n",
    "    ywidth_searchwindows = 692\n",
    "\n",
    "    # FB\n",
    "    # yheight_searchwindows = 225\n",
    "    # ywidth_searchwindows = 535\n",
    "\n",
    "    # utiliza o valor aureo para definir o x do overlap\n",
    "    y_overlap = 0.5\n",
    "    x_overlap = y_overlap * 1.618\n",
    "\n",
    "    for pixel in pixels:\n",
    "\n",
    "        windows = slide_window(x_start_stop=[xheight_searchwindows, xwidth_searchwindows], y_start_stop=[yheight_searchwindows,ywidth_searchwindows],\n",
    "                               xy_window=(pixel, pixel), xy_overlap=(x_overlap, y_overlap))\n",
    "\n",
    "        # if pixel == 64:\n",
    "        #     draw_image = draw_boxes(draw_image, windows, color=(153, 255, 255))\n",
    "\n",
    "        hot_windows = search_windows(image_to_process, windows)\n",
    "\n",
    "        # add detections to the history\n",
    "        if len(hot_windows) > 0:\n",
    "            add_rects(hot_windows)\n",
    "\n",
    "        for rect_set in prev_rects:\n",
    "            add_heat(heat, rect_set)\n",
    "\n",
    "        # Add heat to each box in box list\n",
    "        # add_heat(heat, hot_windows)\n",
    "\n",
    "        # yheight_searchwindows += 10\n",
    "        # ywidth_searchwindows -= 32\n",
    "\n",
    "    # Apply threshold to help remove false positives\n",
    "    # heat = apply_threshold(heat, 12)\n",
    "    heat = apply_threshold(heat, 1+len(prev_rects)//2)\n",
    "\n",
    "    # Visualize the heatmap when displaying\n",
    "    heatmap = np.clip(heat, 0, 255)\n",
    "\n",
    "    # Find final boxes from heatmap using label function\n",
    "    labels = label(heatmap)\n",
    "\n",
    "    draw_labeled_bboxes (draw_image, labels)\n",
    "\n",
    "    dihm = subimage(draw_image, heat, 4, 'Mapa de Calor')\n",
    "\n",
    "    return draw_image, heatmap, labels[0], dihm"
   ]
  },
  {
   "cell_type": "code",
   "execution_count": null,
   "metadata": {
    "collapsed": true
   },
   "outputs": [],
   "source": [
    "'''\n",
    "Pipeline\n",
    "'''\n",
    "def process_image(temp_image):\n",
    "    result = detect_car(temp_image)\n",
    "    return result[3]"
   ]
  },
  {
   "cell_type": "code",
   "execution_count": null,
   "metadata": {
    "collapsed": true
   },
   "outputs": [],
   "source": [
    "'''\n",
    "Execution\n",
    "'''\n",
    "\n",
    "# Digite entre as aspas simples o nome do arquivo de imagem ou video\n",
    "arquivo = 'teste-cruzamento01.jpg'\n",
    "\n",
    "if arquivo[-3:] in ['png', 'jpg']:\n",
    "\n",
    "    # Se for utilizar uma foto, especifique aqui em baixo o caminho o nome do arquivo\n",
    "    image = mpimg.imread('predict/' + arquivo)\n",
    "    print('Leu o arquivo de teste...')\n",
    "\n",
    "    t1 = time.time()\n",
    "    detected_car_image, detected_car_heatmap, detected_car_labales, detected_car_drawimageheatmap = detect_car(image)\n",
    "    print('Detectou o Carro...')\n",
    "    t2 = time.time()\n",
    "    print(round(t2 - t1, 2))\n",
    "\n",
    "    mpimg.imsave('detect/' + arquivo[:-4] + '_detected.png', detected_car_image)\n",
    "    mpimg.imsave('detect/' + arquivo[:-4] + '_heatmap.png', detected_car_heatmap)\n",
    "    mpimg.imsave('detect/' + arquivo[:-4] + '_labels.png', detected_car_labales)\n",
    "    mpimg.imsave('detect/' + arquivo[:-4] + '_detectedheatmap.png', detected_car_drawimageheatmap)\n",
    "\n",
    "    print('Salvar os arquivos de testes...')\n",
    "elif arquivo[-3:] in ['mp4']:\n",
    "\n",
    "    video_output = 'detect/' + arquivo[:-4] + '_output.' + arquivo[-3:]\n",
    "    clip = VideoFileClip('predict/' + arquivo)\n",
    "    print('Carga do video...')\n",
    "\n",
    "    t1 = time.time()\n",
    "    # NOTE: this function expects color images!!\n",
    "    output_clip = clip.fl_image(process_image)\n",
    "    output_clip.write_videofile(video_output, audio=False)\n",
    "    t2 = time.time()\n",
    "    print(round(t2 - t1, 2))\n",
    "else:\n",
    "    print('Não estou preparada para esse tipo de arquivo...')"
   ]
  }
 ],
 "metadata": {
  "kernelspec": {
   "display_name": "Python 2",
   "language": "python",
   "name": "python2"
  },
  "language_info": {
   "codemirror_mode": {
    "name": "ipython",
    "version": 2
   },
   "file_extension": ".py",
   "mimetype": "text/x-python",
   "name": "python",
   "nbconvert_exporter": "python",
   "pygments_lexer": "ipython2",
   "version": "2.7.13"
  }
 },
 "nbformat": 4,
 "nbformat_minor": 2
}
