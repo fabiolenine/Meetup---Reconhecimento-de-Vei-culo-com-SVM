{
 "cells": [
  {
   "cell_type": "markdown",
   "metadata": {},
   "source": [
    "### Importação das Bibliotecas"
   ]
  },
  {
   "cell_type": "code",
   "execution_count": 7,
   "metadata": {},
   "outputs": [],
   "source": [
    "import numpy as np\n",
    "import cv2\n",
    "import glob\n",
    "import time\n",
    "import matplotlib.image as mpimg\n",
    "from skimage.feature import hog\n",
    "from sklearn.svm import SVC\n",
    "from sklearn.preprocessing import StandardScaler\n",
    "from sklearn.model_selection import train_test_split\n",
    "from sklearn.externals import joblib\n",
    "from sklearn.model_selection import GridSearchCV\n",
    "from sklearn.metrics import make_scorer, f1_score\n",
    "from scipy.ndimage.measurements import label\n",
    "from moviepy.editor import VideoFileClip"
   ]
  },
  {
   "cell_type": "markdown",
   "metadata": {},
   "source": [
    "## Obtenção do dados e analise dos dados para treinamento"
   ]
  },
  {
   "cell_type": "code",
   "execution_count": 3,
   "metadata": {
    "collapsed": true
   },
   "outputs": [],
   "source": [
    "# Retorna dois vetores com o caminho e nome dos arquivos das imagens que serão processadas.\n",
    "def pathimage(vehicle, non_vehicle, extension='png'):\n",
    "    vehicle_image_filenames = glob.glob(vehicle + '**/*.' + extension) #, recursive=True)\n",
    "    non_vehicle_image_filenames = glob.glob(non_vehicle + '**/*.' + extension)  #, recursive=True)\n",
    "    return vehicle_image_filenames, non_vehicle_image_filenames"
   ]
  },
  {
   "cell_type": "code",
   "execution_count": 6,
   "metadata": {
    "collapsed": true
   },
   "outputs": [],
   "source": [
    "# Retorna propriedades HOG e visualizacao\n",
    "def gethogfeatures(img, orient, pix_per_cell, cell_per_block, vis=False, feature_vec=True, L = 'L2-Hys'):\n",
    "    if vis == True:\n",
    "        features, hog_image = hog(img, orientations=orient, pixels_per_cell=(pix_per_cell, pix_per_cell), \n",
    "                                  cells_per_block=(cell_per_block, cell_per_block), # block_norm=L,\n",
    "                                  transform_sqrt=True, visualise=vis, feature_vector=feature_vec)\n",
    "        return features, hog_image\n",
    "    # Otherwise call with one output\n",
    "    else:\n",
    "        features = hog(img, orientations=orient, pixels_per_cell=(pix_per_cell, pix_per_cell),\n",
    "                       cells_per_block=(cell_per_block, cell_per_block), # block_norm=L,\n",
    "                       transform_sqrt=True, visualise=vis, feature_vector=feature_vec)\n",
    "        return features"
   ]
  },
  {
   "cell_type": "markdown",
   "metadata": {},
   "source": [
    "## Metodo de extração de propriedades"
   ]
  },
  {
   "cell_type": "code",
   "execution_count": 4,
   "metadata": {
    "collapsed": true
   },
   "outputs": [],
   "source": [
    "# Define a function to extract features from a list of images\n",
    "# Have this function call bin_spatial() and color_hist()\n",
    "def extract_features(imgs, cspace='RGB', orient=9, pix_per_cell=8, cell_per_block=2, hog_channel=2):\n",
    "    # Create a list to append feature vectors to\n",
    "    features = []\n",
    "    # Iterate through the list of images\n",
    "    for file in imgs:\n",
    "        # Read in each one by one\n",
    "        image = mpimg.imread(file)\n",
    "        # apply color conversion if other than 'RGB'\n",
    "        if cspace != 'RGB':\n",
    "            if cspace == 'HSV':\n",
    "                feature_image = cv2.cvtColor(image, cv2.COLOR_RGB2HSV)\n",
    "            elif cspace == 'LUV':\n",
    "                feature_image = cv2.cvtColor(image, cv2.COLOR_RGB2LUV)\n",
    "            elif cspace == 'HLS':\n",
    "                feature_image = cv2.cvtColor(image, cv2.COLOR_RGB2HLS)\n",
    "            elif cspace == 'YUV':\n",
    "                feature_image = cv2.cvtColor(image, cv2.COLOR_RGB2YUV)\n",
    "            elif cspace == 'YCrCb':\n",
    "                feature_image = cv2.cvtColor(image, cv2.COLOR_RGB2YCrCb)\n",
    "        else:\n",
    "            feature_image = np.copy(image)\n",
    "\n",
    "        # Call get_hog_features() with vis=False, feature_vec=True\n",
    "        if hog_channel == 'ALL':\n",
    "            hog_features = []\n",
    "            for channel in range(feature_image.shape[2]):\n",
    "                hog_features.append(gethogfeatures(img=feature_image[:, :, channel], orient=orient,\n",
    "                                                      pix_per_cell=pix_per_cell, cell_per_block=cell_per_block,\n",
    "                                                      vis=False, feature_vec=True))\n",
    "            hog_features = np.ravel(hog_features)\n",
    "        else:\n",
    "            hog_features = gethogfeatures(img=feature_image[:, :, hog_channel], orient=orient,\n",
    "                                             pix_per_cell=pix_per_cell, cell_per_block=cell_per_block, vis=False,\n",
    "                                             feature_vec=True)\n",
    "        # Append the new feature vector to the features list\n",
    "        features.append(hog_features)\n",
    "    # Return list of feature vectors\n",
    "    return features"
   ]
  },
  {
   "cell_type": "markdown",
   "metadata": {},
   "source": [
    "## Treinamento do Modelo"
   ]
  },
  {
   "cell_type": "code",
   "execution_count": 5,
   "metadata": {
    "collapsed": true
   },
   "outputs": [],
   "source": [
    "def train_model(vehicle_hog_features, non_vehicle_hog_features):\n",
    "    parameters = [\n",
    "        {\n",
    "            # 'C': [0.01],\n",
    "            'C': [1e-2, 1, 1e2],\n",
    "            # Cost - Penalização de elementos dentro da margem de suporte\n",
    "            'kernel': ['linear']\n",
    "            # Kernel - Define a função de custo que será minimizada\n",
    "        }\n",
    "    ]\n",
    "\n",
    "    f1_scorer = make_scorer(f1_score)\n",
    "\n",
    "    grid_obj = GridSearchCV(SVC(), param_grid=parameters, scoring=f1_scorer)\n",
    "\n",
    "\n",
    "    # Create an array stack of feature vectors\n",
    "    X = np.vstack((vehicle_hog_features, non_vehicle_hog_features)).astype(np.float64)\n",
    "\n",
    "    # Fit a per-column scaler\n",
    "    X_scaler = StandardScaler().fit(X)\n",
    "\n",
    "    # Apply the scaler to X\n",
    "    scaled_X = X_scaler.transform(X)\n",
    "\n",
    "    # Defini o vetor Y com a label\n",
    "    y = np.hstack((np.ones(len(vehicle_hog_features)), np.zeros(len(non_vehicle_hog_features))))\n",
    "\n",
    "    # Split up data into randomized training and test sets\n",
    "    rand_state = np.random.randint(0, 100)\n",
    "\n",
    "    X_train, X_test, y_train, y_test = train_test_split(scaled_X, y, test_size=0.2, random_state=rand_state, stratify=y)\n",
    "\n",
    "    print('Using:', orient, 'orientations', pix_per_cell, 'pixels per cell and', cell_per_block, 'cells per block')\n",
    "    print('Training data set size: ', len(X_train))\n",
    "    print('Testing data set size: ', len(X_test))\n",
    "\n",
    "    # Check the training time for the SVC\n",
    "    t = time.time()\n",
    "    grid_obj.fit(X_train, y_train)\n",
    "    t2 = time.time()\n",
    "    print(round(t2 - t, 2), 'Seconds to train SVC...')\n",
    "\n",
    "    print(grid_obj.best_params_)\n",
    "\n",
    "    clf = grid_obj.best_estimator_\n",
    "\n",
    "    # Check the score of the SVC\n",
    "\n",
    "    # Check the prediction time for a single sample\n",
    "    t = time.time()\n",
    "\n",
    "    y_preds = clf.predict(X_test)\n",
    "    f1 = f1_score(y_test, y_preds)\n",
    "\n",
    "    t2 = time.time()\n",
    "\n",
    "    print(round(t2 - t, 5), 'Seconds to Predict')\n",
    "    print(f1)\n",
    "\n",
    "    return clf, X_scaler"
   ]
  },
  {
   "cell_type": "code",
   "execution_count": null,
   "metadata": {
    "collapsed": true
   },
   "outputs": [],
   "source": [
    "'''\n",
    "Execution\n",
    "'''\n",
    "\n",
    "pix_per_cell = 8\n",
    "cell_per_block = 2\n",
    "orient = 10\n",
    "color_space = 'YCrCb'\n",
    "hog_channel = 'ALL'\n",
    "\n",
    "vehicle_image_filenames, non_vehicle_image_filenames = pathimage('training_images/vehicles/', 'training_images/non-vehicles/')\n",
    "print('Arquivos contendo veiculos: ', len(vehicle_image_filenames))\n",
    "print('Arquivos sem veiculos: ', len(non_vehicle_image_filenames))\n",
    "\n",
    "print('Fez a leitura dos nomes dos arquivos...')\n",
    "\n",
    "t1 = time.time()\n",
    "vehicle_hog_features = extract_features(vehicle_image_filenames, color_space, orient, pix_per_cell, cell_per_block, hog_channel)\n",
    "\n",
    "non_vehicle_hog_features = extract_features(non_vehicle_image_filenames, color_space, orient, pix_per_cell, cell_per_block, hog_channel)\n",
    "t2 = time.time()\n",
    "print(round(t2-t1, 2), ' para fazer os HOGs...')\n",
    "\n",
    "model, scaler = train_model(vehicle_hog_features, non_vehicle_hog_features)\n",
    "print('Fez o treinamento do modelo...')\n",
    "\n",
    "paramhog = {\n",
    "    'pix_per_cell': pix_per_cell,\n",
    "    'cell_per_block': cell_per_block,\n",
    "    'orient': orient,\n",
    "    'color_space': color_space,\n",
    "    'hog_channel': hog_channel\n",
    "}\n",
    "\n",
    "#salva o modelo treinado\n",
    "joblib.dump(model, 'model/vehiclemodel.pkl')\n",
    "print('Salvou o modelo...')\n",
    "\n",
    "joblib.dump(scaler, 'model/vehiclescaler.pkl')\n",
    "print('Salvou a escala...')\n",
    "\n",
    "joblib.dump(paramhog, 'model/paramhog.pkl')\n",
    "print('Salvou os parametros do Hog...')\n",
    "\n",
    "print('Finalizou !!!')"
   ]
  }
 ],
 "metadata": {
  "kernelspec": {
   "display_name": "Python 2",
   "language": "python",
   "name": "python2"
  },
  "language_info": {
   "codemirror_mode": {
    "name": "ipython",
    "version": 2
   },
   "file_extension": ".py",
   "mimetype": "text/x-python",
   "name": "python",
   "nbconvert_exporter": "python",
   "pygments_lexer": "ipython2",
   "version": "2.7.13"
  }
 },
 "nbformat": 4,
 "nbformat_minor": 2
}
